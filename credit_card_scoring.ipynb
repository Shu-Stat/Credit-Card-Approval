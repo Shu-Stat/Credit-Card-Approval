{
 "cells": [
  {
   "cell_type": "code",
   "execution_count": null,
   "id": "bb576e29",
   "metadata": {},
   "outputs": [],
   "source": [
    "%matplotlib inline\n",
    "\n",
    "import pandas as pd\n",
    "import numpy as np\n",
    "import matplotlib.pyplot as plt"
   ]
  },
  {
   "cell_type": "code",
   "execution_count": 25,
   "id": "81f0031c",
   "metadata": {},
   "outputs": [],
   "source": [
    "#Import data frame\n",
    "path1 = r\"/Users/shuhui_zhao/Desktop/credit_card_approval_prediction/credit_record.csv\"\n",
    "path2 = r\"/Users/shuhui_zhao/Desktop/credit_card_approval_prediction/application_record.csv\"\n",
    "#\n",
    "credit_df=pd.read_csv(path1)\n",
    "#clients' application info\n",
    "app_df=pd.read_csv(path2)"
   ]
  },
  {
   "cell_type": "code",
   "execution_count": 26,
   "id": "9503980c",
   "metadata": {
    "scrolled": true
   },
   "outputs": [
    {
     "name": "stdout",
     "output_type": "stream",
     "text": [
      "Number of unique clients in application_record dataset: 45985\n"
     ]
    }
   ],
   "source": [
    "print(\"Number of unique clients in credit_record dataset: {}\".format(len(credit_df.ID.unique())))\n",
    "#To see if there is any missing data in this dataset\n",
    "credit_df_drop = credit_df.dropna() \n",
    "if credit_df.shape==credit_df_drop.shape:\n",
    "    print (\"There is no missing data.\")\n",
    "else:\n",
    "    print (\"There are {} rows with missing data\".format(len(credit_df.ID.unique())-len(credit_df_drop.ID.unique())))"
   ]
  },
  {
   "cell_type": "code",
   "execution_count": 6,
   "id": "21228411",
   "metadata": {
    "scrolled": true
   },
   "outputs": [
    {
     "name": "stdout",
     "output_type": "stream",
     "text": [
      "(1048575, 3)\n",
      "Empty DataFrame\n",
      "Columns: [COUNT]\n",
      "Index: []\n"
     ]
    }
   ],
   "source": [
    "#sort the data by customers' ID\n",
    "credit_df.sort_values('ID')\n",
    "#Check duplicates\n",
    "#For each id, if there are two identical months, delete both observations\n",
    "#temporary data frame: groups_month, groups_month_count\n",
    "groups_month = credit_df.groupby(['ID','MONTHS_BALANCE'])\n",
    "groups_month_count = groups_month.count()\n",
    "groups_month_count = groups_month_count.rename(columns = {\"STATUS\":\"COUNT\"})\n",
    "if groups_month_count.loc[groups_month_count['COUNT']>1].empty:\n",
    "    print (\"There is no duplicates\")\n",
    "else:\n",
    "    print (\"There are duplicates\")\n"
   ]
  },
  {
   "cell_type": "code",
   "execution_count": 27,
   "id": "b0277803",
   "metadata": {},
   "outputs": [],
   "source": [
    "#reshape data by 'ID' based on 'MONTHS_BALANCE'\n",
    "credit_pivot = credit_df.pivot(index = 'ID', columns = 'MONTHS_BALANCE', values = 'STATUS')\n",
    "#print(credit_pivot.head())\n",
    "#assume that the minimum value of 'MONTHS_BALANCE' is the open_month\n",
    "#Similarly, assume that the maximum value of 'MONTHS_BALANCE' is the close_month\n",
    "#group the credit_df by 'ID' and extract the minimum & maximum value of 'MONTHS_BALANCE'\n",
    "credit_grouped = credit_df.groupby('ID')\n",
    "credit_pivot['open_month'] = credit_grouped['MONTHS_BALANCE'].min()\n",
    "credit_pivot['close_month'] = credit_grouped['MONTHS_BALANCE'].max()\n",
    "credit_pivot['ID'] = credit_pivot.index\n",
    "credit_pivot = credit_pivot[['ID','open_month','close_month']]\n",
    "#to merge the data, 'ID' cannot be an index level\n",
    "credit_pivot.reset_index(drop=True, inplace=True)\n",
    "#calculate the window_month\n",
    "credit_pivot[\"window_month\"] = credit_pivot['close_month']-credit_pivot['open_month']\n",
    "#merge two data frame (LEFT OTTER JOIN)\n",
    "credit = pd.merge(credit_df, credit_pivot, how = 'left', on = 'ID')\n",
    "#month on balance\n",
    "credit['MOB']=credit['MONTHS_BALANCE']-credit['open_month']\n",
    "credit.sort_values(['ID','MOB'],inplace=True)\n",
    "\n",
    "#divide 48 months into 4 years\n",
    "bins = [k for k in range(-61,1,12)]\n",
    "credit['open_year'] = pd.cut(credit['open_month'],bins,labels = [-5,-4,-3,-2,-1])#open_year_to_today\n",
    "\n",
    "#save credit data frame in credit0 (in case)\n",
    "credit0 = credit\n"
   ]
  },
  {
   "cell_type": "code",
   "execution_count": null,
   "id": "a1fc9af4",
   "metadata": {},
   "outputs": [],
   "source": [
    "#Count unique ID\n",
    "de = credit.groupby('open_year').agg({'ID':pd.Series.nunique})\n",
    "de = de.rename(columns = {\"ID\":\"open_sum\"})\n",
    "de.reset_index(inplace=True)\n",
    "print(de.head())"
   ]
  },
  {
   "cell_type": "code",
   "execution_count": null,
   "id": "f6e4f0e8",
   "metadata": {},
   "outputs": [],
   "source": [
    "###calculate the cumulative percentage of bad customers (cumulative charge-off rate/cumulative loss rate)\n",
    "\n",
    "#A customer will be considered as 'bad' (1) if overdue\n",
    "credit['overdue']=np.where((credit['STATUS']=='2')|(credit['STATUS']=='3')\n",
    "                           |(credit['STATUS']=='4')|(credit['STATUS']=='5'),1,0)"
   ]
  },
  {
   "cell_type": "code",
   "execution_count": 10,
   "id": "cc0285ae",
   "metadata": {
    "scrolled": false
   },
   "outputs": [],
   "source": [
    "#According to IFRS 9, consider 12 months as performance window\n",
    "credit = credit[credit['window_month']>12]\n",
    "#print(credit.head())"
   ]
  },
  {
   "cell_type": "code",
   "execution_count": 11,
   "id": "2585896e",
   "metadata": {
    "scrolled": true
   },
   "outputs": [
    {
     "name": "stdout",
     "output_type": "stream",
     "text": [
      "              ID  MONTHS_BALANCE STATUS  open_month  close_month  \\\n",
      "4        5001712               0      C         -18            0   \n",
      "5        5001712              -1      C         -18            0   \n",
      "6        5001712              -2      C         -18            0   \n",
      "7        5001712              -3      C         -18            0   \n",
      "8        5001712              -4      C         -18            0   \n",
      "...          ...             ...    ...         ...          ...   \n",
      "1048570  5150487             -25      C         -29            0   \n",
      "1048571  5150487             -26      C         -29            0   \n",
      "1048572  5150487             -27      C         -29            0   \n",
      "1048573  5150487             -28      C         -29            0   \n",
      "1048574  5150487             -29      C         -29            0   \n",
      "\n",
      "         window_month open_year  \n",
      "4                  18        -2  \n",
      "5                  18        -2  \n",
      "6                  18        -2  \n",
      "7                  18        -2  \n",
      "8                  18        -2  \n",
      "...               ...       ...  \n",
      "1048570            29        -3  \n",
      "1048571            29        -3  \n",
      "1048572            29        -3  \n",
      "1048573            29        -3  \n",
      "1048574            29        -3  \n",
      "\n",
      "[925680 rows x 7 columns]\n"
     ]
    }
   ],
   "source": [
    "vintage = credit_wm12.groupby(['open_year','MOB']).agg({'ID':pd.Series.nunique})\n",
    "vintage.reset_index(inplace=True)\n",
    "vintage['overdue_count'] = np.nan\n",
    "vintage = vintage[['open_year','MOB','overdue_count']]\n",
    "vintage = pd.merge(vintage,de,how = 'left',on='open_year')"
   ]
  },
  {
   "cell_type": "code",
   "execution_count": 32,
   "id": "ec52181a",
   "metadata": {},
   "outputs": [],
   "source": [
    "#loop to count overdue\n",
    "# for i in range(-60,1):\n",
    "#     ls = [] #to save \n",
    "#     for j in range(0,61):\n",
    "#         #save the ID number\n",
    "#         due = list(credit[(credit['open_month']==i) & (credit['MOB']==j) & (credit['overdue']==1)]['ID'])\n",
    "#         ls.extend(due)\n",
    "#         # calculate non-duplicate ID numbers\n",
    "#         vintage.loc[(vintage['open_month'] == i) & (vintage['MOB'] == j),'overdue_count'] = len(set(ls))"
   ]
  },
  {
   "cell_type": "code",
   "execution_count": 18,
   "id": "22cef368",
   "metadata": {},
   "outputs": [],
   "source": [
    "#loop to count overdue\n",
    "for i in range(-5,-1):\n",
    "    ls = [] \n",
    "    for j in range(0,61):\n",
    "        #save the ID number\n",
    "        due = list(credit[(credit.open_year == i) & (credit.MOB==j) & (credit.overdue==1)]['ID'])\n",
    "        ls.extend(due)\n",
    "        # calculate non-duplicate ID numbers\n",
    "        vintage.loc[(vintage.open_year == i) & (vintage.MOB == j),'overdue_count'] = len(set(ls))"
   ]
  },
  {
   "cell_type": "code",
   "execution_count": 19,
   "id": "34f1b3f0",
   "metadata": {
    "scrolled": true
   },
   "outputs": [
    {
     "name": "stdout",
     "output_type": "stream",
     "text": [
      "    open_year  MOB  overdue_count  open_sum      rate\n",
      "0          -5    0            0.0      5112  0.000000\n",
      "1          -5    1            3.0      5112  0.000587\n",
      "2          -5    2           11.0      5112  0.002152\n",
      "3          -5    3           19.0      5112  0.003717\n",
      "4          -5    4           32.0      5112  0.006260\n",
      "..        ...  ...            ...       ...       ...\n",
      "300        -1   56            NaN         0       NaN\n",
      "301        -1   57            NaN         0       NaN\n",
      "302        -1   58            NaN         0       NaN\n",
      "303        -1   59            NaN         0       NaN\n",
      "304        -1   60            NaN         0       NaN\n",
      "\n",
      "[305 rows x 5 columns]\n"
     ]
    }
   ],
   "source": [
    "vintage['rate'] = vintage['overdue_count']/vintage['open_sum']\n",
    "#For the clients have been opened their credit cards for less than 1 year, \n",
    "#it is not possible for them to have observe window time more than 12 months\n",
    "vintage = vintage[vintage['open_year']<-1]\n",
    "vintage_tb = vintage.pivot(index='open_year',columns='MOB',values='rate')\n",
    "vintage_tb"
   ]
  },
  {
   "cell_type": "code",
   "execution_count": 1,
   "id": "fa35131b",
   "metadata": {
    "scrolled": true
   },
   "outputs": [
    {
     "ename": "NameError",
     "evalue": "name 'plt' is not defined",
     "output_type": "error",
     "traceback": [
      "\u001b[0;31m---------------------------------------------------------------------------\u001b[0m",
      "\u001b[0;31mNameError\u001b[0m                                 Traceback (most recent call last)",
      "\u001b[0;32m/var/folders/8f/8ff16wt16bgd72qkjbp49q7m0000gn/T/ipykernel_46785/349576276.py\u001b[0m in \u001b[0;36m<module>\u001b[0;34m\u001b[0m\n\u001b[1;32m      1\u001b[0m \u001b[0;31m# plot vintage line chart\u001b[0m\u001b[0;34m\u001b[0m\u001b[0;34m\u001b[0m\u001b[0;34m\u001b[0m\u001b[0m\n\u001b[0;32m----> 2\u001b[0;31m \u001b[0mplt\u001b[0m\u001b[0;34m.\u001b[0m\u001b[0mrcParams\u001b[0m\u001b[0;34m[\u001b[0m\u001b[0;34m'figure.facecolor'\u001b[0m\u001b[0;34m]\u001b[0m \u001b[0;34m=\u001b[0m \u001b[0;34m'white'\u001b[0m\u001b[0;34m\u001b[0m\u001b[0;34m\u001b[0m\u001b[0m\n\u001b[0m\u001b[1;32m      3\u001b[0m \u001b[0;31m#replace NaN into 0\u001b[0m\u001b[0;34m\u001b[0m\u001b[0;34m\u001b[0m\u001b[0;34m\u001b[0m\u001b[0m\n\u001b[1;32m      4\u001b[0m \u001b[0mvintage_graph\u001b[0m \u001b[0;34m=\u001b[0m \u001b[0mvintage_tb\u001b[0m\u001b[0;34m.\u001b[0m\u001b[0mreplace\u001b[0m\u001b[0;34m(\u001b[0m\u001b[0;36m0\u001b[0m\u001b[0;34m,\u001b[0m\u001b[0mnp\u001b[0m\u001b[0;34m.\u001b[0m\u001b[0mnan\u001b[0m\u001b[0;34m)\u001b[0m\u001b[0;34m\u001b[0m\u001b[0;34m\u001b[0m\u001b[0m\n\u001b[1;32m      5\u001b[0m \u001b[0mlst\u001b[0m \u001b[0;34m=\u001b[0m \u001b[0;34m[\u001b[0m\u001b[0mi\u001b[0m \u001b[0;32mfor\u001b[0m \u001b[0mi\u001b[0m \u001b[0;32min\u001b[0m \u001b[0mrange\u001b[0m\u001b[0;34m(\u001b[0m\u001b[0;36m0\u001b[0m\u001b[0;34m,\u001b[0m\u001b[0;36m61\u001b[0m\u001b[0;34m)\u001b[0m\u001b[0;34m]\u001b[0m\u001b[0;34m\u001b[0m\u001b[0;34m\u001b[0m\u001b[0m\n",
      "\u001b[0;31mNameError\u001b[0m: name 'plt' is not defined"
     ]
    }
   ],
   "source": [
    "# plot vintage line chart\n",
    "plt.rcParams['figure.facecolor'] = 'white'\n",
    "#replace NaN into 0\n",
    "vintage_graph = vintage_tb.replace(0,np.nan)\n",
    "lst = [i for i in range(0,61)]\n",
    "vintage_plt = vintage_tb[lst].T.plot(legend = True, grid = True, title = 'Cumulative Charge-off Rate (> 60 Days Overdue)')\n",
    "plt.axvline(30)\n",
    "#plt.axvline(25)\n",
    "#plt.axvline(20)\n",
    "plt.xlabel('Months on Books')\n",
    "plt.ylabel('Cumulative Charge-off Rate')\n",
    "plt.show()\n"
   ]
  },
  {
   "cell_type": "code",
   "execution_count": null,
   "id": "8b31acf9",
   "metadata": {},
   "outputs": [],
   "source": [
    "#Define \"good\" and \"bad\" situations\n",
    "#From vintage analysis, we can see that for most cases, \n"
   ]
  },
  {
   "cell_type": "code",
   "execution_count": null,
   "id": "f5a56660",
   "metadata": {},
   "outputs": [],
   "source": []
  },
  {
   "cell_type": "code",
   "execution_count": null,
   "id": "35c75814",
   "metadata": {},
   "outputs": [],
   "source": [
    "#\n",
    "print(app_df.shape)\n",
    "app_df.head()"
   ]
  },
  {
   "cell_type": "code",
   "execution_count": null,
   "id": "16eac9b8",
   "metadata": {},
   "outputs": [],
   "source": []
  },
  {
   "cell_type": "code",
   "execution_count": null,
   "id": "d347f1ed",
   "metadata": {},
   "outputs": [],
   "source": []
  },
  {
   "cell_type": "code",
   "execution_count": null,
   "id": "73d74151",
   "metadata": {},
   "outputs": [],
   "source": [
    "#Join two data frames by ID\n",
    "sum_df = pd.concat([credit_df,app_df])\n",
    "#Sort the merged data frame by ID\n",
    "\n"
   ]
  }
 ],
 "metadata": {
  "kernelspec": {
   "display_name": "Python 3 (ipykernel)",
   "language": "python",
   "name": "python3"
  },
  "language_info": {
   "codemirror_mode": {
    "name": "ipython",
    "version": 3
   },
   "file_extension": ".py",
   "mimetype": "text/x-python",
   "name": "python",
   "nbconvert_exporter": "python",
   "pygments_lexer": "ipython3",
   "version": "3.8.12"
  }
 },
 "nbformat": 4,
 "nbformat_minor": 5
}
