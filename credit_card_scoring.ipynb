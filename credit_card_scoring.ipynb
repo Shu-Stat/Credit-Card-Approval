{
 "cells": [
  {
   "cell_type": "code",
   "execution_count": 16,
   "id": "44606006",
   "metadata": {},
   "outputs": [],
   "source": [
    "%matplotlib inline\n",
    "\n",
    "import pandas as pd\n",
    "import numpy as np\n",
    "import matplotlib.pyplot as plt"
   ]
  },
  {
   "cell_type": "code",
   "execution_count": 17,
   "id": "81f0031c",
   "metadata": {},
   "outputs": [],
   "source": [
    "#Import data frame\n",
    "path1 = r\"/Users/shuhui_zhao/Desktop/credit_card_approval_prediction/credit_record.csv\"\n",
    "path2 = r\"/Users/shuhui_zhao/Desktop/credit_card_approval_prediction/application_record.csv\"\n",
    "#\n",
    "credit_df=pd.read_csv(path1)\n",
    "#clients' application info\n",
    "app_df=pd.read_csv(path2)"
   ]
  },
  {
   "cell_type": "code",
   "execution_count": 42,
   "id": "9503980c",
   "metadata": {
    "scrolled": true
   },
   "outputs": [
    {
     "name": "stdout",
     "output_type": "stream",
     "text": [
      "(1048575, 3)\n",
      "              ID  MONTHS_BALANCE STATUS\n",
      "0        5001711               0      X\n",
      "1        5001711              -1      0\n",
      "2        5001711              -2      0\n",
      "3        5001711              -3      0\n",
      "4        5001712               0      C\n",
      "...          ...             ...    ...\n",
      "1048570  5150487             -25      C\n",
      "1048571  5150487             -26      C\n",
      "1048572  5150487             -27      C\n",
      "1048573  5150487             -28      C\n",
      "1048574  5150487             -29      C\n",
      "\n",
      "[1048575 rows x 3 columns]\n",
      "Number of unique clients in application_record dataset: 45985\n"
     ]
    }
   ],
   "source": [
    "#print(credit_df.shape)\n",
    "credit_df.head()\n",
    "#print(credit_df)\n",
    "print(\"Number of unique clients in application_record dataset: {}\".format(len(credit_df.ID.unique())))"
   ]
  },
  {
   "cell_type": "code",
   "execution_count": 19,
   "id": "21228411",
   "metadata": {
    "scrolled": true
   },
   "outputs": [
    {
     "name": "stdout",
     "output_type": "stream",
     "text": [
      "(1048575, 3)\n",
      "Empty DataFrame\n",
      "Columns: [COUNT]\n",
      "Index: []\n"
     ]
    }
   ],
   "source": [
    "######Response variable\n",
    "###Check missing value\n",
    "credit_df = credit_df.dropna()\n",
    "print(credit_df.shape) #apparantly, there is no missing data\n",
    "#sort the data by customers' ID\n",
    "credit_df.sort_values('ID')\n",
    "###Check duplicates\n",
    "#For each id, if there are two identical month, delete both observations\n",
    "#temporary data frame: groups_month, groups_month_count\n",
    "groups_month = credit_df.groupby(['ID','MONTHS_BALANCE'])\n",
    "groups_month_count = groups_month.count()\n",
    "groups_month_count = groups_month_count.rename(columns = {\"STATUS\":\"COUNT\"})\n",
    "print(groups_month_count.loc[groups_month_count['COUNT']>1]) #no replicates\n"
   ]
  },
  {
   "cell_type": "code",
   "execution_count": 20,
   "id": "c45dc88c",
   "metadata": {},
   "outputs": [],
   "source": [
    "###Vintage analysis\n",
    "#credit_df['MONTHS_BALANCE'].max()\n",
    "#credit_df['MONTHS_BALANCE'].min()\n",
    "#we are going to dig in the past 60 months, every 6 months\n",
    "credit_grouped = credit_df.groupby('ID')"
   ]
  },
  {
   "cell_type": "code",
   "execution_count": 21,
   "id": "b0277803",
   "metadata": {},
   "outputs": [],
   "source": [
    "#reshape data by 'ID' based on 'MONTHS_BALANCE'\n",
    "credit_pivot = credit_df.pivot(index = 'ID', columns = 'MONTHS_BALANCE', values = 'STATUS')\n",
    "#print(credit_pivot.head())\n",
    "#assume that the minimum value of 'MONTHS_BALANCE' is the open_month\n",
    "#Similarly, assume that the maximum value of 'MONTHS_BALANCE' is the close_month\n",
    "#group the credit_df by 'ID' and extract the minimum & maximum value of 'MONTHS_BALANCE'\n",
    "credit_grouped = credit_df.groupby('ID')\n",
    "credit_pivot['open_month'] = credit_grouped['MONTHS_BALANCE'].min()\n",
    "credit_pivot['close_month'] = credit_grouped['MONTHS_BALANCE'].max()\n",
    "credit_pivot['ID'] = credit_pivot.index\n",
    "credit_pivot = credit_pivot[['ID','open_month','close_month']]\n",
    "#to merge the data, 'ID' cannot be an index level\n",
    "credit_pivot.reset_index(drop=True, inplace=True)\n",
    "#calculate the window_month\n",
    "credit_pivot[\"window_month\"] = credit_pivot['close_month']-credit_pivot['open_month']"
   ]
  },
  {
   "cell_type": "code",
   "execution_count": 41,
   "id": "0b7d1258",
   "metadata": {},
   "outputs": [
    {
     "name": "stdout",
     "output_type": "stream",
     "text": [
      "MONTHS_BALANCE       ID  open_month  close_month  window_month\n",
      "0               5001711          -3            0             3\n",
      "1               5001712         -18            0            18\n",
      "2               5001713         -21            0            21\n",
      "3               5001714         -14            0            14\n",
      "4               5001715         -59            0            59\n",
      "...                 ...         ...          ...           ...\n",
      "45980           5150482         -28          -11            17\n",
      "45981           5150483         -17            0            17\n",
      "45982           5150484         -12            0            12\n",
      "45983           5150485          -1            0             1\n",
      "45984           5150487         -29            0            29\n",
      "\n",
      "[45985 rows x 4 columns]\n"
     ]
    }
   ],
   "source": [
    "#print(credit_pivot)"
   ]
  },
  {
   "cell_type": "code",
   "execution_count": 22,
   "id": "aaac34f0",
   "metadata": {
    "scrolled": false
   },
   "outputs": [],
   "source": [
    "#merge two data frame (LEFT OTTER JOIN)\n",
    "credit = pd.merge(credit_df, credit_pivot, how = 'left', on = 'ID')\n",
    "#save credit data frame in credit0 (in case)\n",
    "credit0 = credit\n",
    "#print(credit.head())"
   ]
  },
  {
   "cell_type": "code",
   "execution_count": 23,
   "id": "cc0285ae",
   "metadata": {
    "scrolled": false
   },
   "outputs": [],
   "source": [
    "#divide 48 months into 8 half a year\n",
    "credit\n",
    "bins = [k for k in range(-61,1,12)]\n",
    "credit['open_year'] = pd.cut(credit['open_month'],bins,labels = [-5,-4,-3,-2,-1])#open_year_to_today\n",
    "#save credit data frame in credit0 (in case)\n",
    "credit0 = credit\n",
    "#According to IFRS 9, consider 12 months as performance window\n",
    "credit = credit[credit['window_month']>12]\n",
    "#print(credit.head())"
   ]
  },
  {
   "cell_type": "code",
   "execution_count": 43,
   "id": "2585896e",
   "metadata": {},
   "outputs": [
    {
     "name": "stdout",
     "output_type": "stream",
     "text": [
      "              ID  MONTHS_BALANCE STATUS  open_month  close_month  \\\n",
      "22       5001712             -18      0         -18            0   \n",
      "21       5001712             -17      0         -18            0   \n",
      "20       5001712             -16      0         -18            0   \n",
      "19       5001712             -15      0         -18            0   \n",
      "18       5001712             -14      0         -18            0   \n",
      "...          ...             ...    ...         ...          ...   \n",
      "1048549  5150487              -4      C         -29            0   \n",
      "1048548  5150487              -3      C         -29            0   \n",
      "1048547  5150487              -2      C         -29            0   \n",
      "1048546  5150487              -1      C         -29            0   \n",
      "1048545  5150487               0      C         -29            0   \n",
      "\n",
      "         window_month open_year  overdue  MOB  \n",
      "22                 18        -2        0    0  \n",
      "21                 18        -2        0    1  \n",
      "20                 18        -2        0    2  \n",
      "19                 18        -2        0    3  \n",
      "18                 18        -2        0    4  \n",
      "...               ...       ...      ...  ...  \n",
      "1048549            29        -3        0   25  \n",
      "1048548            29        -3        0   26  \n",
      "1048547            29        -3        0   27  \n",
      "1048546            29        -3        0   28  \n",
      "1048545            29        -3        0   29  \n",
      "\n",
      "[925680 rows x 9 columns]\n"
     ]
    }
   ],
   "source": [
    "print(credit)"
   ]
  },
  {
   "cell_type": "code",
   "execution_count": 25,
   "id": "6fa1bbfa",
   "metadata": {
    "scrolled": false
   },
   "outputs": [],
   "source": [
    "#denominator: number of customers who opened their account every months\n",
    "credit_pivot_temp = credit_pivot.loc[credit_pivot['window_month']>12]\n",
    "credit_pivot_temp = pd.merge(credit_pivot_temp, credit[['ID','open_year']],on = 'ID', how = 'left')\n",
    "credit_pivot_temp = credit_pivot_temp[['ID','open_year','window_month']]\n",
    "de = credit_pivot_temp.groupby('open_year').agg({'ID':pd.Series.nunique})\n",
    "de = de.rename(columns = {\"ID\":\"open_sum\"})\n",
    "de.reset_index(inplace=True)\n",
    "#print(de.head())"
   ]
  },
  {
   "cell_type": "code",
   "execution_count": 27,
   "id": "830d4f77",
   "metadata": {},
   "outputs": [],
   "source": [
    "###calculate the cumulative percentage of bad customers (cumulative charge-off rate/cumulative loss rate)\n",
    "\n",
    "#A customer will be considered as 'bad' (1) if overdue\n",
    "credit['overdue']=np.where((credit['STATUS']=='2')|(credit['STATUS']=='3')\n",
    "                           |(credit['STATUS']=='4')|(credit['STATUS']=='5'),1,0)\n",
    "#month on balance\n",
    "credit['MOB']=credit['MONTHS_BALANCE']-credit['open_month']\n",
    "credit.sort_values(['ID','MOB'],inplace=True)"
   ]
  },
  {
   "cell_type": "code",
   "execution_count": 30,
   "id": "3736ad75",
   "metadata": {
    "scrolled": false
   },
   "outputs": [
    {
     "name": "stdout",
     "output_type": "stream",
     "text": [
      "              ID  MONTHS_BALANCE STATUS  open_month  close_month  \\\n",
      "22       5001712             -18      0         -18            0   \n",
      "21       5001712             -17      0         -18            0   \n",
      "20       5001712             -16      0         -18            0   \n",
      "19       5001712             -15      0         -18            0   \n",
      "18       5001712             -14      0         -18            0   \n",
      "...          ...             ...    ...         ...          ...   \n",
      "1048549  5150487              -4      C         -29            0   \n",
      "1048548  5150487              -3      C         -29            0   \n",
      "1048547  5150487              -2      C         -29            0   \n",
      "1048546  5150487              -1      C         -29            0   \n",
      "1048545  5150487               0      C         -29            0   \n",
      "\n",
      "         window_month open_year  overdue  MOB  \n",
      "22                 18        -2        0    0  \n",
      "21                 18        -2        0    1  \n",
      "20                 18        -2        0    2  \n",
      "19                 18        -2        0    3  \n",
      "18                 18        -2        0    4  \n",
      "...               ...       ...      ...  ...  \n",
      "1048549            29        -3        0   25  \n",
      "1048548            29        -3        0   26  \n",
      "1048547            29        -3        0   27  \n",
      "1048546            29        -3        0   28  \n",
      "1048545            29        -3        0   29  \n",
      "\n",
      "[925680 rows x 9 columns]\n"
     ]
    }
   ],
   "source": [
    "print(credit)"
   ]
  },
  {
   "cell_type": "code",
   "execution_count": 31,
   "id": "55f1acfa",
   "metadata": {},
   "outputs": [
    {
     "name": "stdout",
     "output_type": "stream",
     "text": [
      "    open_year  MOB  overdue_count  open_sum\n",
      "0          -5    0            NaN      5112\n",
      "1          -5    1            NaN      5112\n",
      "2          -5    2            NaN      5112\n",
      "3          -5    3            NaN      5112\n",
      "4          -5    4            NaN      5112\n",
      "..        ...  ...            ...       ...\n",
      "239        -2   56            NaN      9355\n",
      "240        -2   57            NaN      9355\n",
      "241        -2   58            NaN      9355\n",
      "242        -2   59            NaN      9355\n",
      "243        -2   60            NaN      9355\n",
      "\n",
      "[244 rows x 4 columns]\n"
     ]
    }
   ],
   "source": [
    "vintage = credit.groupby(['open_year','MOB']).agg({'ID':'count'})\n",
    "vintage.reset_index(inplace=True)\n",
    "vintage['overdue_count'] = np.nan\n",
    "vintage = vintage[['open_year','MOB','overdue_count']]\n",
    "vintage = pd.merge(vintage,de,how = 'left',on='open_year')\n",
    "print(vintage)"
   ]
  },
  {
   "cell_type": "code",
   "execution_count": 32,
   "id": "ec52181a",
   "metadata": {},
   "outputs": [],
   "source": [
    "#loop to count overdue\n",
    "# for i in range(-60,1):\n",
    "#     ls = [] #to save \n",
    "#     for j in range(0,61):\n",
    "#         #save the ID number\n",
    "#         due = list(credit[(credit['open_month']==i) & (credit['MOB']==j) & (credit['overdue']==1)]['ID'])\n",
    "#         ls.extend(due)\n",
    "#         # calculate non-duplicate ID numbers\n",
    "#         vintage.loc[(vintage['open_month'] == i) & (vintage['MOB'] == j),'overdue_count'] = len(set(ls))"
   ]
  },
  {
   "cell_type": "code",
   "execution_count": 33,
   "id": "22cef368",
   "metadata": {},
   "outputs": [],
   "source": [
    "#loop to count overdue\n",
    "for i in range(-5,-1):\n",
    "    ls = [] \n",
    "    for j in range(0,61):\n",
    "        #save the ID number\n",
    "        due = list(credit[(credit['open_year'] == i) & (credit['MOB']==j) & (credit['overdue']==1)]['ID'])\n",
    "        ls.extend(due)\n",
    "        # calculate non-duplicate ID numbers\n",
    "        vintage.loc[(vintage['open_year'] == i) & (vintage['MOB'] == j),'overdue_count'] = len(set(ls))"
   ]
  },
  {
   "cell_type": "code",
   "execution_count": 34,
   "id": "34f1b3f0",
   "metadata": {
    "scrolled": true
   },
   "outputs": [
    {
     "name": "stdout",
     "output_type": "stream",
     "text": [
      "    open_year  MOB  overdue_count  open_sum      rate\n",
      "0          -5    0            0.0      5112  0.000000\n",
      "1          -5    1            3.0      5112  0.000587\n",
      "2          -5    2           11.0      5112  0.002152\n",
      "3          -5    3           19.0      5112  0.003717\n",
      "4          -5    4           32.0      5112  0.006260\n",
      "..        ...  ...            ...       ...       ...\n",
      "239        -2   56          114.0      9355  0.012186\n",
      "240        -2   57          114.0      9355  0.012186\n",
      "241        -2   58          114.0      9355  0.012186\n",
      "242        -2   59          114.0      9355  0.012186\n",
      "243        -2   60          114.0      9355  0.012186\n",
      "\n",
      "[244 rows x 5 columns]\n"
     ]
    }
   ],
   "source": [
    "vintage['rate'] = vintage['overdue_count']/vintage['open_sum']\n",
    "print(vintage)"
   ]
  },
  {
   "cell_type": "code",
   "execution_count": 35,
   "id": "698d8701",
   "metadata": {
    "scrolled": true
   },
   "outputs": [
    {
     "name": "stdout",
     "output_type": "stream",
     "text": [
      "MOB              0         1         2         3         4         5   \\\n",
      "open_year                                                               \n",
      "-5         0.000000  0.000587  0.002152  0.003717  0.006260  0.007629   \n",
      "-4         0.000142  0.000426  0.000993  0.002270  0.004824  0.005817   \n",
      "-3         0.000000  0.000000  0.000496  0.001488  0.002356  0.003967   \n",
      "-2         0.000000  0.000000  0.000641  0.002031  0.002886  0.004169   \n",
      "\n",
      "MOB              6         7         8         9   ...        51        52  \\\n",
      "open_year                                          ...                       \n",
      "-5         0.009585  0.012715  0.013106  0.015649  ...  0.030908  0.030908   \n",
      "-4         0.007662  0.009932  0.010783  0.012344  ...  0.024262  0.024262   \n",
      "-3         0.004463  0.006571  0.007687  0.008678  ...  0.015993  0.015993   \n",
      "-2         0.005024  0.006200  0.007269  0.007696  ...  0.012186  0.012186   \n",
      "\n",
      "MOB              53        54        55        56        57        58  \\\n",
      "open_year                                                               \n",
      "-5         0.030908  0.031103  0.031299  0.031299  0.031299  0.031495   \n",
      "-4         0.024262  0.024262  0.024262  0.024262  0.024262  0.024262   \n",
      "-3         0.015993  0.015993  0.015993  0.015993  0.015993  0.015993   \n",
      "-2         0.012186  0.012186  0.012186  0.012186  0.012186  0.012186   \n",
      "\n",
      "MOB              59        60  \n",
      "open_year                      \n",
      "-5         0.031495  0.031495  \n",
      "-4         0.024262  0.024262  \n",
      "-3         0.015993  0.015993  \n",
      "-2         0.012186  0.012186  \n",
      "\n",
      "[4 rows x 61 columns]\n"
     ]
    }
   ],
   "source": [
    "vintage_tb = vintage.pivot(index='open_year',columns='MOB',values='rate')\n",
    "print(vintage_tb.head())"
   ]
  },
  {
   "cell_type": "code",
   "execution_count": 36,
   "id": "fa35131b",
   "metadata": {},
   "outputs": [
    {
     "data": {
      "image/png": "[encoded data removed]",
      "text/plain": [
       "<Figure size 432x288 with 1 Axes>"
      ]
     },
     "metadata": {},
     "output_type": "display_data"
    }
   ],
   "source": [
    "# plot vintage line chart\n",
    "plt.rcParams['figure.facecolor'] = 'white'\n",
    "#replace NaN into 0\n",
    "vintage_graph = vintage_tb.replace(0,np.nan)\n",
    "lst = [i for i in range(0,61)]\n",
    "vintage_tb[lst].T.plot(legend = True, grid = True, title = 'Cumulative Charge-off Rate (> 60 Days Overdue)')\n",
    "#plt.axvline(30)\n",
    "#plt.axvline(25)\n",
    "#plt.axvline(20)\n",
    "plt.xlabel('Months on Books')\n",
    "plt.ylabel('Cumulative Charge-off Rate')\n",
    "plt.show()"
   ]
  },
  {
   "cell_type": "code",
   "execution_count": 40,
   "id": "a30f01fc",
   "metadata": {},
   "outputs": [
    {
     "name": "stdout",
     "output_type": "stream",
     "text": [
      "MONTHS_BALANCE       ID  open_month  close_month  window_month\n",
      "0               5001711          -3            0             3\n",
      "1               5001712         -18            0            18\n",
      "2               5001713         -21            0            21\n",
      "3               5001714         -14            0            14\n",
      "4               5001715         -59            0            59\n",
      "...                 ...         ...          ...           ...\n",
      "45980           5150482         -28          -11            17\n",
      "45981           5150483         -17            0            17\n",
      "45982           5150484         -12            0            12\n",
      "45983           5150485          -1            0             1\n",
      "45984           5150487         -29            0            29\n",
      "\n",
      "[45985 rows x 4 columns]\n"
     ]
    }
   ],
   "source": [
    "print(credit_pivot)"
   ]
  },
  {
   "cell_type": "code",
   "execution_count": null,
   "id": "7ecde198",
   "metadata": {},
   "outputs": [],
   "source": [
    "def calculate_rate(pivot_tb, command): \n",
    "    '''calculate bad customer rate\n",
    "    '''\n",
    "    credit0['status'] = None\n",
    "    exec(command) # excuate input code\n",
    "    sumagg = credit0.groupby('ID')['status'].agg(sum)\n",
    "    pivot_tb = pd.merge(pivot_tb, sumagg, on = 'ID', how = 'left')\n",
    "    pivot_tb.loc[pivot_tb['status'] > 1, 'status'] = 1\n",
    "    rate = pivot_tb['status'].sum() / len(pivot_tb)\n",
    "    return round(rate, 5)\n",
    "\n",
    "command = \"credit0.loc[(credit0['STATUS'] == '0') | (credit0['STATUS'] == '1') | (credit0['STATUS'] == '2') | (credit0['STATUS'] == '3' )| (credit0['STATUS'] == '4' )| (credit0['STATUS'] == '5'), 'status'] = 1\"   \n",
    "morethan1 = calculate_rate(pivot_tb, command)\n",
    "command = \"credit0.loc[(credit0['STATUS'] == '1') | (credit0['STATUS'] == '2') | (credit0['STATUS'] == '3' )| (credit0['STATUS'] == '4' )| (credit0['STATUS'] == '5'), 'status'] = 1\"   \n",
    "morethan30 = calculate_rate(pivot_tb, command)\n",
    "command = \"credit0.loc[(credit0['STATUS'] == '2') | (credit0['STATUS'] == '3' )| (credit0['STATUS'] == '4' )| (credit0['STATUS'] == '5'), 'status'] = 1\"\n",
    "morethan60 = calculate_rate(pivot_tb, command)\n",
    "command = \"credit0.loc[(credit0['STATUS'] == '3' )| (credit0['STATUS'] == '4' )| (credit0['STATUS'] == '5'), 'status'] = 1\"\n",
    "morethan90 = calculate_rate(pivot_tb, command)\n",
    "command = \"credit0.loc[(credit0['STATUS'] == '4' )| (credit0['STATUS'] == '5'), 'status'] = 1\"\n",
    "morethan120 = calculate_rate(pivot_tb, command)\n",
    "command = \"credit0.loc[(credit0['STATUS'] == '5'), 'status'] = 1\"\n",
    "morethan150 = calculate_rate(pivot_tb, command)\n",
    "\n",
    "summary_dt = pd.DataFrame({'situation':['past due more than 1 day',\n",
    "                               'past due more than 30 days',\n",
    "                               'past due more than 60 days',\n",
    "                               'past due more than 90 days',\n",
    "                               'past due more than 120 days',\n",
    "                               'past due more than 150 days'],\n",
    "                      'bad customer ratio':[morethan1,\n",
    "                               morethan30,\n",
    "                               morethan60,\n",
    "                               morethan90, \n",
    "                               morethan120,\n",
    "                               morethan150, \n",
    "                      ]})\n",
    "summary_dt"
   ]
  },
  {
   "cell_type": "code",
   "execution_count": null,
   "id": "35c75814",
   "metadata": {},
   "outputs": [],
   "source": [
    "#\n",
    "print(app_df.shape)\n",
    "app_df.head()"
   ]
  },
  {
   "cell_type": "code",
   "execution_count": null,
   "id": "16eac9b8",
   "metadata": {},
   "outputs": [],
   "source": []
  },
  {
   "cell_type": "code",
   "execution_count": null,
   "id": "d347f1ed",
   "metadata": {},
   "outputs": [],
   "source": []
  },
  {
   "cell_type": "code",
   "execution_count": null,
   "id": "73d74151",
   "metadata": {},
   "outputs": [],
   "source": [
    "#Join two data frames by ID\n",
    "sum_df = pd.concat([credit_df,app_df])\n",
    "#Sort the merged data frame by ID\n",
    "\n"
   ]
  }
 ],
 "metadata": {
  "kernelspec": {
   "display_name": "Python 3 (ipykernel)",
   "language": "python",
   "name": "python3"
  },
  "language_info": {
   "codemirror_mode": {
    "name": "ipython",
    "version": 3
   },
   "file_extension": ".py",
   "mimetype": "text/x-python",
   "name": "python",
   "nbconvert_exporter": "python",
   "pygments_lexer": "ipython3",
   "version": "3.8.12"
  }
 },
 "nbformat": 4,
 "nbformat_minor": 5
}
